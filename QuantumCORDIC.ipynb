{
 "cells": [
  {
   "cell_type": "markdown",
   "metadata": {},
   "source": [
    "# Quantum CORDIC - Attempt 1"
   ]
  },
  {
   "cell_type": "markdown",
   "metadata": {},
   "source": [
    "Going to try to build CORDIC for arcsin for quantum computers"
   ]
  },
  {
   "cell_type": "markdown",
   "metadata": {},
   "source": [
    "### Import Modules"
   ]
  },
  {
   "cell_type": "code",
   "execution_count": 117,
   "metadata": {},
   "outputs": [],
   "source": [
    "from qiskit import QuantumCircuit as qc, QuantumRegister as qr\n",
    "from qiskit.circuit.gate import Gate\n",
    "from qiskit.circuit.library import MCXGate\n",
    "from qiskit.quantum_info import Statevector\n",
    "\n",
    "import numpy as np\n"
   ]
  },
  {
   "cell_type": "markdown",
   "metadata": {},
   "source": [
    "### Initial Variables"
   ]
  },
  {
   "cell_type": "code",
   "execution_count": 118,
   "metadata": {},
   "outputs": [],
   "source": [
    "debug = True"
   ]
  },
  {
   "cell_type": "markdown",
   "metadata": {},
   "source": [
    "### Naive Addition Gate"
   ]
  },
  {
   "cell_type": "code",
   "execution_count": 125,
   "metadata": {},
   "outputs": [
    {
     "name": "stdout",
     "output_type": "stream",
     "text": [
      "Initial:  |000101001>\t|\tOutput:  |100011001>\n"
     ]
    }
   ],
   "source": [
    "def naiveIncrementGate(\n",
    "        reg: qr\n",
    "    ) -> Gate:\n",
    "    circuit = qc(reg, name=\"$[+1]$\")\n",
    "    for i in range(1,len(reg)):\n",
    "        circuit.append(\n",
    "            MCXGate(len(reg)-i),\n",
    "            reg[i-1:len(reg)][::-1]\n",
    "        )\n",
    "    circuit.x(len(reg)-1)\n",
    "    return circuit.to_gate()\n",
    "\n",
    "def naiveAdditionGate(\n",
    "        ctrlReg: qr, addReg: qr, carryReg: qr\n",
    "    ) -> Gate:\n",
    "    circuit = qc(ctrlReg, carryReg, addReg)\n",
    "\n",
    "    for i, el in enumerate(ctrlReg):\n",
    "        increment = naiveIncrementGate(qr(i+2)).control(1)\n",
    "        circuit.append(\n",
    "            increment, \n",
    "            [ctrlReg[i]] + [carryReg[0]] + addReg[0:i+1]\n",
    "        )\n",
    "        circuit.barrier()\n",
    "\n",
    "    return circuit\n",
    "\n",
    "if debug:\n",
    "    ctReg = qr(4, 'control')\n",
    "    adReg = qr(4, 'add')\n",
    "    caReg = qr(1, 'carry')\n",
    "    circ = naiveAdditionGate(ctReg, adReg, caReg)\n",
    "\n",
    "    bitString = \"0001\"+\"0\"+\"1001\"\n",
    "\n",
    "    state = Statevector.from_label(bitString)\n",
    "    output = f\"Initial: {state.draw('latex_source')}\\t|\\t\"\n",
    "\n",
    "    state = state.evolve(circ)\n",
    "\n",
    "    output += f\"Output: {state.draw('latex_source')}\"\n",
    "\n",
    "    output = output.replace(r'\\rangle', '>')\n",
    "    print(output)\n"
   ]
  },
  {
   "cell_type": "markdown",
   "metadata": {},
   "source": [
    "### Naive Add Blocks Gate"
   ]
  },
  {
   "cell_type": "code",
   "execution_count": 120,
   "metadata": {},
   "outputs": [],
   "source": [
    "def naiveAddBlocksGate(\n",
    "        addReg: qr, carryReg: qr, iteration: int, block: int\n",
    "    ) -> Gate:\n",
    "    pass\n"
   ]
  },
  {
   "cell_type": "markdown",
   "metadata": {},
   "source": [
    "### Multiply by $1+2^{-n}$"
   ]
  },
  {
   "cell_type": "code",
   "execution_count": 121,
   "metadata": {},
   "outputs": [],
   "source": [
    "def specialMult(n: int):\n",
    "    pass\n"
   ]
  }
 ],
 "metadata": {
  "kernelspec": {
   "display_name": ".venv",
   "language": "python",
   "name": "python3"
  },
  "language_info": {
   "codemirror_mode": {
    "name": "ipython",
    "version": 3
   },
   "file_extension": ".py",
   "mimetype": "text/x-python",
   "name": "python",
   "nbconvert_exporter": "python",
   "pygments_lexer": "ipython3",
   "version": "3.9.2"
  }
 },
 "nbformat": 4,
 "nbformat_minor": 2
}
